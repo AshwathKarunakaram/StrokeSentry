{
  "nbformat": 4,
  "nbformat_minor": 0,
  "metadata": {
    "colab": {
      "provenance": [],
      "gpuType": "T4"
    },
    "kernelspec": {
      "name": "python3",
      "display_name": "Python 3"
    },
    "language_info": {
      "name": "python"
    },
    "accelerator": "GPU"
  },
  "cells": [
    {
      "cell_type": "code",
      "execution_count": 3,
      "metadata": {
        "colab": {
          "base_uri": "https://localhost:8080/"
        },
        "id": "x3rmQ0sJetUa",
        "outputId": "45277de1-972d-474a-ea3a-245fe2b9d397"
      },
      "outputs": [
        {
          "output_type": "stream",
          "name": "stdout",
          "text": [
            "Path to dataset files: /kaggle/input/torgo-audio\n"
          ]
        }
      ],
      "source": [
        "import kagglehub\n",
        "\n",
        "# Download latest version\n",
        "path = kagglehub.dataset_download(\"pranaykoppula/torgo-audio\")\n",
        "\n",
        "print(\"Path to dataset files:\", path)"
      ]
    },
    {
      "cell_type": "code",
      "source": [
        "# Make a clean target\n",
        "!mkdir -p /content/torgo-audio\n",
        "\n",
        "# Copy everything over\n",
        "!cp -r \"/kaggle/input/torgo-audio\" /content/"
      ],
      "metadata": {
        "id": "onBGOOg1e2EA"
      },
      "execution_count": 4,
      "outputs": []
    },
    {
      "cell_type": "code",
      "source": [
        "!pip install ai-edge-torch-nightly torchvision  # :contentReference[oaicite:0]{index=0}\n"
      ],
      "metadata": {
        "colab": {
          "base_uri": "https://localhost:8080/"
        },
        "id": "baeyudEue4D4",
        "outputId": "371a8a4b-51b5-44b7-c9cc-5a4552f3bd6a"
      },
      "execution_count": 5,
      "outputs": [
        {
          "output_type": "stream",
          "name": "stdout",
          "text": [
            "Requirement already satisfied: ai-edge-torch-nightly in /usr/local/lib/python3.11/dist-packages (0.6.0.dev20250620)\n",
            "Requirement already satisfied: torchvision in /usr/local/lib/python3.11/dist-packages (0.21.0+cu124)\n",
            "Requirement already satisfied: absl-py in /usr/local/lib/python3.11/dist-packages (from ai-edge-torch-nightly) (1.4.0)\n",
            "Requirement already satisfied: numpy in /usr/local/lib/python3.11/dist-packages (from ai-edge-torch-nightly) (2.0.2)\n",
            "Requirement already satisfied: scipy in /usr/local/lib/python3.11/dist-packages (from ai-edge-torch-nightly) (1.15.3)\n",
            "Requirement already satisfied: safetensors in /usr/local/lib/python3.11/dist-packages (from ai-edge-torch-nightly) (0.5.3)\n",
            "Requirement already satisfied: multipledispatch in /usr/local/lib/python3.11/dist-packages (from ai-edge-torch-nightly) (1.0.0)\n",
            "Requirement already satisfied: transformers in /usr/local/lib/python3.11/dist-packages (from ai-edge-torch-nightly) (4.53.2)\n",
            "Requirement already satisfied: kagglehub in /usr/local/lib/python3.11/dist-packages (from ai-edge-torch-nightly) (0.3.12)\n",
            "Requirement already satisfied: tabulate in /usr/local/lib/python3.11/dist-packages (from ai-edge-torch-nightly) (0.9.0)\n",
            "Requirement already satisfied: torch>=2.4.0 in /usr/local/lib/python3.11/dist-packages (from ai-edge-torch-nightly) (2.6.0+cu124)\n",
            "Requirement already satisfied: tf-nightly>=2.19.0.dev20250101 in /usr/local/lib/python3.11/dist-packages (from ai-edge-torch-nightly) (2.20.0.dev20250716)\n",
            "Requirement already satisfied: ai-edge-litert-nightly in /usr/local/lib/python3.11/dist-packages (from ai-edge-torch-nightly) (1.4.0.dev20250718)\n",
            "Requirement already satisfied: ai-edge-quantizer-nightly in /usr/local/lib/python3.11/dist-packages (from ai-edge-torch-nightly) (0.3.0.dev20250719)\n",
            "Requirement already satisfied: jax in /usr/local/lib/python3.11/dist-packages (from ai-edge-torch-nightly) (0.5.2)\n",
            "Requirement already satisfied: torch-xla2>=0.0.1.dev20241201 in /usr/local/lib/python3.11/dist-packages (from torch-xla2[odml]>=0.0.1.dev20241201->ai-edge-torch-nightly) (0.0.1.dev202412041639)\n",
            "Requirement already satisfied: pillow!=8.3.*,>=5.3.0 in /usr/local/lib/python3.11/dist-packages (from torchvision) (11.2.1)\n",
            "Requirement already satisfied: filelock in /usr/local/lib/python3.11/dist-packages (from torch>=2.4.0->ai-edge-torch-nightly) (3.18.0)\n",
            "Requirement already satisfied: typing-extensions>=4.10.0 in /usr/local/lib/python3.11/dist-packages (from torch>=2.4.0->ai-edge-torch-nightly) (4.14.1)\n",
            "Requirement already satisfied: networkx in /usr/local/lib/python3.11/dist-packages (from torch>=2.4.0->ai-edge-torch-nightly) (3.5)\n",
            "Requirement already satisfied: jinja2 in /usr/local/lib/python3.11/dist-packages (from torch>=2.4.0->ai-edge-torch-nightly) (3.1.6)\n",
            "Requirement already satisfied: fsspec in /usr/local/lib/python3.11/dist-packages (from torch>=2.4.0->ai-edge-torch-nightly) (2025.3.2)\n",
            "Requirement already satisfied: nvidia-cuda-nvrtc-cu12==12.4.127 in /usr/local/lib/python3.11/dist-packages (from torch>=2.4.0->ai-edge-torch-nightly) (12.4.127)\n",
            "Requirement already satisfied: nvidia-cuda-runtime-cu12==12.4.127 in /usr/local/lib/python3.11/dist-packages (from torch>=2.4.0->ai-edge-torch-nightly) (12.4.127)\n",
            "Requirement already satisfied: nvidia-cuda-cupti-cu12==12.4.127 in /usr/local/lib/python3.11/dist-packages (from torch>=2.4.0->ai-edge-torch-nightly) (12.4.127)\n",
            "Requirement already satisfied: nvidia-cudnn-cu12==9.1.0.70 in /usr/local/lib/python3.11/dist-packages (from torch>=2.4.0->ai-edge-torch-nightly) (9.1.0.70)\n",
            "Requirement already satisfied: nvidia-cublas-cu12==12.4.5.8 in /usr/local/lib/python3.11/dist-packages (from torch>=2.4.0->ai-edge-torch-nightly) (12.4.5.8)\n",
            "Requirement already satisfied: nvidia-cufft-cu12==11.2.1.3 in /usr/local/lib/python3.11/dist-packages (from torch>=2.4.0->ai-edge-torch-nightly) (11.2.1.3)\n",
            "Requirement already satisfied: nvidia-curand-cu12==10.3.5.147 in /usr/local/lib/python3.11/dist-packages (from torch>=2.4.0->ai-edge-torch-nightly) (10.3.5.147)\n",
            "Requirement already satisfied: nvidia-cusolver-cu12==11.6.1.9 in /usr/local/lib/python3.11/dist-packages (from torch>=2.4.0->ai-edge-torch-nightly) (11.6.1.9)\n",
            "Requirement already satisfied: nvidia-cusparse-cu12==12.3.1.170 in /usr/local/lib/python3.11/dist-packages (from torch>=2.4.0->ai-edge-torch-nightly) (12.3.1.170)\n",
            "Requirement already satisfied: nvidia-cusparselt-cu12==0.6.2 in /usr/local/lib/python3.11/dist-packages (from torch>=2.4.0->ai-edge-torch-nightly) (0.6.2)\n",
            "Requirement already satisfied: nvidia-nccl-cu12==2.21.5 in /usr/local/lib/python3.11/dist-packages (from torch>=2.4.0->ai-edge-torch-nightly) (2.21.5)\n",
            "Requirement already satisfied: nvidia-nvtx-cu12==12.4.127 in /usr/local/lib/python3.11/dist-packages (from torch>=2.4.0->ai-edge-torch-nightly) (12.4.127)\n",
            "Requirement already satisfied: nvidia-nvjitlink-cu12==12.4.127 in /usr/local/lib/python3.11/dist-packages (from torch>=2.4.0->ai-edge-torch-nightly) (12.4.127)\n",
            "Requirement already satisfied: triton==3.2.0 in /usr/local/lib/python3.11/dist-packages (from torch>=2.4.0->ai-edge-torch-nightly) (3.2.0)\n",
            "Requirement already satisfied: sympy==1.13.1 in /usr/local/lib/python3.11/dist-packages (from torch>=2.4.0->ai-edge-torch-nightly) (1.13.1)\n",
            "Requirement already satisfied: mpmath<1.4,>=1.1.0 in /usr/local/lib/python3.11/dist-packages (from sympy==1.13.1->torch>=2.4.0->ai-edge-torch-nightly) (1.3.0)\n",
            "Requirement already satisfied: astunparse>=1.6.0 in /usr/local/lib/python3.11/dist-packages (from tf-nightly>=2.19.0.dev20250101->ai-edge-torch-nightly) (1.6.3)\n",
            "Requirement already satisfied: flatbuffers>=24.3.25 in /usr/local/lib/python3.11/dist-packages (from tf-nightly>=2.19.0.dev20250101->ai-edge-torch-nightly) (25.2.10)\n",
            "Requirement already satisfied: gast!=0.5.0,!=0.5.1,!=0.5.2,>=0.2.1 in /usr/local/lib/python3.11/dist-packages (from tf-nightly>=2.19.0.dev20250101->ai-edge-torch-nightly) (0.6.0)\n",
            "Requirement already satisfied: google_pasta>=0.1.1 in /usr/local/lib/python3.11/dist-packages (from tf-nightly>=2.19.0.dev20250101->ai-edge-torch-nightly) (0.2.0)\n",
            "Requirement already satisfied: libclang>=13.0.0 in /usr/local/lib/python3.11/dist-packages (from tf-nightly>=2.19.0.dev20250101->ai-edge-torch-nightly) (18.1.1)\n",
            "Requirement already satisfied: opt_einsum>=2.3.2 in /usr/local/lib/python3.11/dist-packages (from tf-nightly>=2.19.0.dev20250101->ai-edge-torch-nightly) (3.4.0)\n",
            "Requirement already satisfied: packaging in /usr/local/lib/python3.11/dist-packages (from tf-nightly>=2.19.0.dev20250101->ai-edge-torch-nightly) (25.0)\n",
            "Requirement already satisfied: protobuf>=5.28.0 in /usr/local/lib/python3.11/dist-packages (from tf-nightly>=2.19.0.dev20250101->ai-edge-torch-nightly) (5.29.5)\n",
            "Requirement already satisfied: requests<3,>=2.21.0 in /usr/local/lib/python3.11/dist-packages (from tf-nightly>=2.19.0.dev20250101->ai-edge-torch-nightly) (2.32.3)\n",
            "Requirement already satisfied: setuptools in /usr/local/lib/python3.11/dist-packages (from tf-nightly>=2.19.0.dev20250101->ai-edge-torch-nightly) (75.2.0)\n",
            "Requirement already satisfied: six>=1.12.0 in /usr/local/lib/python3.11/dist-packages (from tf-nightly>=2.19.0.dev20250101->ai-edge-torch-nightly) (1.17.0)\n",
            "Requirement already satisfied: termcolor>=1.1.0 in /usr/local/lib/python3.11/dist-packages (from tf-nightly>=2.19.0.dev20250101->ai-edge-torch-nightly) (3.1.0)\n",
            "Requirement already satisfied: wrapt>=1.11.0 in /usr/local/lib/python3.11/dist-packages (from tf-nightly>=2.19.0.dev20250101->ai-edge-torch-nightly) (1.17.2)\n",
            "Requirement already satisfied: grpcio<2.0,>=1.24.3 in /usr/local/lib/python3.11/dist-packages (from tf-nightly>=2.19.0.dev20250101->ai-edge-torch-nightly) (1.73.1)\n",
            "Requirement already satisfied: tb-nightly~=2.19.0.a in /usr/local/lib/python3.11/dist-packages (from tf-nightly>=2.19.0.dev20250101->ai-edge-torch-nightly) (2.19.0a20250218)\n",
            "Requirement already satisfied: keras-nightly>=3.6.0.dev in /usr/local/lib/python3.11/dist-packages (from tf-nightly>=2.19.0.dev20250101->ai-edge-torch-nightly) (3.10.0.dev2025071903)\n",
            "Requirement already satisfied: h5py>=3.11.0 in /usr/local/lib/python3.11/dist-packages (from tf-nightly>=2.19.0.dev20250101->ai-edge-torch-nightly) (3.14.0)\n",
            "Requirement already satisfied: ml_dtypes<1.0.0,>=0.5.1 in /usr/local/lib/python3.11/dist-packages (from tf-nightly>=2.19.0.dev20250101->ai-edge-torch-nightly) (0.5.1)\n",
            "Requirement already satisfied: immutabledict in /usr/local/lib/python3.11/dist-packages (from torch-xla2>=0.0.1.dev20241201->torch-xla2[odml]>=0.0.1.dev20241201->ai-edge-torch-nightly) (4.2.1)\n",
            "Requirement already satisfied: pytest in /usr/local/lib/python3.11/dist-packages (from torch-xla2>=0.0.1.dev20241201->torch-xla2[odml]>=0.0.1.dev20241201->ai-edge-torch-nightly) (8.3.5)\n",
            "Requirement already satisfied: jaxlib<=0.5.2,>=0.5.1 in /usr/local/lib/python3.11/dist-packages (from jax->ai-edge-torch-nightly) (0.5.1)\n",
            "Requirement already satisfied: backports.strenum in /usr/local/lib/python3.11/dist-packages (from ai-edge-litert-nightly->ai-edge-torch-nightly) (1.2.8)\n",
            "Requirement already satisfied: tqdm in /usr/local/lib/python3.11/dist-packages (from ai-edge-litert-nightly->ai-edge-torch-nightly) (4.67.1)\n",
            "Requirement already satisfied: pyyaml in /usr/local/lib/python3.11/dist-packages (from kagglehub->ai-edge-torch-nightly) (6.0.2)\n",
            "Requirement already satisfied: huggingface-hub<1.0,>=0.30.0 in /usr/local/lib/python3.11/dist-packages (from transformers->ai-edge-torch-nightly) (0.33.4)\n",
            "Requirement already satisfied: regex!=2019.12.17 in /usr/local/lib/python3.11/dist-packages (from transformers->ai-edge-torch-nightly) (2024.11.6)\n",
            "Requirement already satisfied: tokenizers<0.22,>=0.21 in /usr/local/lib/python3.11/dist-packages (from transformers->ai-edge-torch-nightly) (0.21.2)\n",
            "Requirement already satisfied: wheel<1.0,>=0.23.0 in /usr/local/lib/python3.11/dist-packages (from astunparse>=1.6.0->tf-nightly>=2.19.0.dev20250101->ai-edge-torch-nightly) (0.45.1)\n",
            "Requirement already satisfied: hf-xet<2.0.0,>=1.1.2 in /usr/local/lib/python3.11/dist-packages (from huggingface-hub<1.0,>=0.30.0->transformers->ai-edge-torch-nightly) (1.1.5)\n",
            "Requirement already satisfied: rich in /usr/local/lib/python3.11/dist-packages (from keras-nightly>=3.6.0.dev->tf-nightly>=2.19.0.dev20250101->ai-edge-torch-nightly) (13.9.4)\n",
            "Requirement already satisfied: namex in /usr/local/lib/python3.11/dist-packages (from keras-nightly>=3.6.0.dev->tf-nightly>=2.19.0.dev20250101->ai-edge-torch-nightly) (0.1.0)\n",
            "Requirement already satisfied: optree in /usr/local/lib/python3.11/dist-packages (from keras-nightly>=3.6.0.dev->tf-nightly>=2.19.0.dev20250101->ai-edge-torch-nightly) (0.16.0)\n",
            "Requirement already satisfied: charset-normalizer<4,>=2 in /usr/local/lib/python3.11/dist-packages (from requests<3,>=2.21.0->tf-nightly>=2.19.0.dev20250101->ai-edge-torch-nightly) (3.4.2)\n",
            "Requirement already satisfied: idna<4,>=2.5 in /usr/local/lib/python3.11/dist-packages (from requests<3,>=2.21.0->tf-nightly>=2.19.0.dev20250101->ai-edge-torch-nightly) (3.10)\n",
            "Requirement already satisfied: urllib3<3,>=1.21.1 in /usr/local/lib/python3.11/dist-packages (from requests<3,>=2.21.0->tf-nightly>=2.19.0.dev20250101->ai-edge-torch-nightly) (2.4.0)\n",
            "Requirement already satisfied: certifi>=2017.4.17 in /usr/local/lib/python3.11/dist-packages (from requests<3,>=2.21.0->tf-nightly>=2.19.0.dev20250101->ai-edge-torch-nightly) (2025.7.14)\n",
            "Requirement already satisfied: markdown>=2.6.8 in /usr/local/lib/python3.11/dist-packages (from tb-nightly~=2.19.0.a->tf-nightly>=2.19.0.dev20250101->ai-edge-torch-nightly) (3.8.2)\n",
            "Requirement already satisfied: tensorboard-data-server<0.8.0,>=0.7.0 in /usr/local/lib/python3.11/dist-packages (from tb-nightly~=2.19.0.a->tf-nightly>=2.19.0.dev20250101->ai-edge-torch-nightly) (0.7.2)\n",
            "Requirement already satisfied: werkzeug>=1.0.1 in /usr/local/lib/python3.11/dist-packages (from tb-nightly~=2.19.0.a->tf-nightly>=2.19.0.dev20250101->ai-edge-torch-nightly) (3.1.3)\n",
            "Requirement already satisfied: MarkupSafe>=2.0 in /usr/local/lib/python3.11/dist-packages (from jinja2->torch>=2.4.0->ai-edge-torch-nightly) (3.0.2)\n",
            "Requirement already satisfied: iniconfig in /usr/local/lib/python3.11/dist-packages (from pytest->torch-xla2>=0.0.1.dev20241201->torch-xla2[odml]>=0.0.1.dev20241201->ai-edge-torch-nightly) (2.1.0)\n",
            "Requirement already satisfied: pluggy<2,>=1.5 in /usr/local/lib/python3.11/dist-packages (from pytest->torch-xla2>=0.0.1.dev20241201->torch-xla2[odml]>=0.0.1.dev20241201->ai-edge-torch-nightly) (1.6.0)\n",
            "Requirement already satisfied: markdown-it-py>=2.2.0 in /usr/local/lib/python3.11/dist-packages (from rich->keras-nightly>=3.6.0.dev->tf-nightly>=2.19.0.dev20250101->ai-edge-torch-nightly) (3.0.0)\n",
            "Requirement already satisfied: pygments<3.0.0,>=2.13.0 in /usr/local/lib/python3.11/dist-packages (from rich->keras-nightly>=3.6.0.dev->tf-nightly>=2.19.0.dev20250101->ai-edge-torch-nightly) (2.19.2)\n",
            "Requirement already satisfied: mdurl~=0.1 in /usr/local/lib/python3.11/dist-packages (from markdown-it-py>=2.2.0->rich->keras-nightly>=3.6.0.dev->tf-nightly>=2.19.0.dev20250101->ai-edge-torch-nightly) (0.1.2)\n"
          ]
        }
      ]
    },
    {
      "cell_type": "code",
      "source": [
        "# Cell 1: Imports\n",
        "import os\n",
        "import numpy as np\n",
        "import librosa\n",
        "import torch\n",
        "import torch.nn as nn\n",
        "import torch.optim as optim\n",
        "from torch.utils.data import TensorDataset, DataLoader\n",
        "from tqdm import tqdm\n",
        "from sklearn.model_selection import train_test_split\n",
        "from sklearn.preprocessing import LabelEncoder\n",
        "from sklearn.metrics import classification_report, confusion_matrix\n",
        "import matplotlib.pyplot as plt\n",
        "import seaborn as sns\n",
        "\n",
        "from torchvision.models import mobilenet_v3_small\n"
      ],
      "metadata": {
        "id": "GbYlPp06gIy2"
      },
      "execution_count": 6,
      "outputs": []
    },
    {
      "cell_type": "code",
      "source": [
        "# Cell 2: Config & Globals\n",
        "base_path = \"/content/torgo-audio\"\n",
        "device    = torch.device('cuda' if torch.cuda.is_available() else 'cpu')\n",
        "\n",
        "# These will be filled in later\n",
        "audio_files = []\n",
        "labels      = []\n",
        "X_mfcc      = None\n",
        "y_labels    = None\n",
        "\n",
        "# Global model variable\n",
        "classifier: nn.Module = None\n",
        "conf_matrix  = None\n",
        "class_report = None\n"
      ],
      "metadata": {
        "id": "_WcESzmBhXry"
      },
      "execution_count": 7,
      "outputs": []
    },
    {
      "cell_type": "code",
      "source": [
        "# Cell 3: Data loading + feature extraction\n",
        "def load_audio_files(base_path):\n",
        "    audio_files, labels = [], []\n",
        "    subdirs = ['F_Con', 'F_Dys', 'M_Con', 'M_Dys']\n",
        "    for subdir in tqdm(subdirs, desc=\"Processing Directories\"):\n",
        "        path = os.path.join(base_path, subdir)\n",
        "        label = 'Dysarthric' if 'Dys' in subdir else 'Control'\n",
        "        for root, _, files in os.walk(path):\n",
        "            for f in files:\n",
        "                if f.endswith('.wav'):\n",
        "                    audio_files.append(os.path.join(root, f))\n",
        "                    labels.append(label)\n",
        "    return audio_files, labels\n",
        "\n",
        "def extract_mfcc(file_path, duration=3, sr=16000, n_mfcc=40):\n",
        "    try:\n",
        "        y, sr = librosa.load(file_path, sr=sr, duration=duration)\n",
        "        mfcc = librosa.feature.mfcc(y=y, sr=sr, n_mfcc=n_mfcc)\n",
        "        return np.mean(mfcc.T, axis=0)\n",
        "    except Exception as e:\n",
        "        print(f\"Error {file_path}: {e}\")\n",
        "        return None\n",
        "\n",
        "def prepare_feature_vectors(audio_files, labels):\n",
        "    feats, labs = [], []\n",
        "    le = LabelEncoder()\n",
        "    enc = le.fit_transform(labels)\n",
        "    for fp, lb in tqdm(zip(audio_files, enc), total=len(audio_files), desc=\"Extracting MFCC\"):\n",
        "        mf = extract_mfcc(fp)\n",
        "        if mf is not None:\n",
        "            feats.append(mf)\n",
        "            labs.append(lb)\n",
        "    if not feats:\n",
        "        raise RuntimeError(\"No features extracted!\")\n",
        "    X = torch.tensor(feats, dtype=torch.float32)\n",
        "    y = torch.tensor(labs)\n",
        "    return X, y\n"
      ],
      "metadata": {
        "id": "h8ENJEFEhZ0O"
      },
      "execution_count": 8,
      "outputs": []
    },
    {
      "cell_type": "code",
      "source": [
        "# Cell 4: Model definition + instantiate global classifier\n",
        "class MobileNetV3Classifier(nn.Module):\n",
        "    def __init__(self, input_dim=40, output_dim=2):\n",
        "        super().__init__()\n",
        "        self.prep = nn.Sequential(\n",
        "            nn.Linear(input_dim, 128),\n",
        "            nn.ReLU(),\n",
        "            nn.Unflatten(1, (1, 1, 128))\n",
        "        )\n",
        "        self.repeat = nn.Conv2d(1, 3, kernel_size=1)\n",
        "        self.net = mobilenet_v3_small(weights='IMAGENET1K_V1')\n",
        "        self.net.classifier[3] = nn.Linear(\n",
        "            self.net.classifier[3].in_features,\n",
        "            output_dim\n",
        "        )\n",
        "\n",
        "    def forward(self, x):\n",
        "        x = self.prep(x)\n",
        "        x = torch.nn.functional.interpolate(x, size=(128, 128), mode='bilinear')\n",
        "        x = self.repeat(x)\n",
        "        return self.net(x)\n",
        "\n",
        "# instantiate\n",
        "classifier = MobileNetV3Classifier().to(device)\n"
      ],
      "metadata": {
        "colab": {
          "base_uri": "https://localhost:8080/"
        },
        "id": "x1IFg3BfhcHG",
        "outputId": "53f1ba23-6de9-4e43-e22e-cd5a23bde644"
      },
      "execution_count": 9,
      "outputs": [
        {
          "output_type": "stream",
          "name": "stderr",
          "text": [
            "Downloading: \"https://download.pytorch.org/models/mobilenet_v3_small-047dcff4.pth\" to /root/.cache/torch/hub/checkpoints/mobilenet_v3_small-047dcff4.pth\n",
            "100%|██████████| 9.83M/9.83M [00:00<00:00, 183MB/s]\n"
          ]
        }
      ]
    },
    {
      "cell_type": "code",
      "source": [
        "# Cell 5: Training function (in‑place on global `classifier`)\n",
        "def train_model(X, y, test_size=0.2, random_state=42, epochs=50):\n",
        "    X_tr, X_te, y_tr, y_te = train_test_split(\n",
        "        X, y, test_size=test_size, random_state=random_state, stratify=y\n",
        "    )\n",
        "    train_loader = DataLoader(TensorDataset(X_tr, y_tr), batch_size=32, shuffle=True)\n",
        "    test_loader  = DataLoader(TensorDataset(X_te, y_te), batch_size=32, shuffle=False)\n",
        "\n",
        "    criterion = nn.CrossEntropyLoss()\n",
        "    optimizer = optim.Adam(classifier.parameters(), lr=1e-3)\n",
        "\n",
        "    for _ in tqdm(range(epochs), desc=\"Training\"):\n",
        "        classifier.train()\n",
        "        for bx, by in train_loader:\n",
        "            bx, by = bx.to(device), by.to(device)\n",
        "            optimizer.zero_grad()\n",
        "            loss = criterion(classifier(bx), by)\n",
        "            loss.backward()\n",
        "            optimizer.step()\n",
        "\n",
        "    # evaluation\n",
        "    classifier.eval()\n",
        "    preds, trues = [], []\n",
        "    with torch.no_grad():\n",
        "        for bx, by in test_loader:\n",
        "            bx, by = bx.to(device), by.to(device)\n",
        "            out = classifier(bx)\n",
        "            _, p = out.max(1)\n",
        "            preds.extend(p.cpu().numpy())\n",
        "            trues.extend(by.cpu().numpy())\n",
        "\n",
        "    global conf_matrix, class_report\n",
        "    class_names = ['Control', 'Dysarthric']\n",
        "    class_report = classification_report(trues, preds, target_names=class_names)\n",
        "    conf_matrix  = confusion_matrix(trues, preds)\n"
      ],
      "metadata": {
        "id": "UiehU1qAhejW"
      },
      "execution_count": 10,
      "outputs": []
    },
    {
      "cell_type": "code",
      "source": [
        "# Cell 6: Plotting helper\n",
        "def plot_confusion(conf_matrix, class_names=['Control','Dysarthric']):\n",
        "    plt.figure(figsize=(8,6))\n",
        "    sns.heatmap(conf_matrix, annot=True, fmt='d',\n",
        "                xticklabels=class_names, yticklabels=class_names,\n",
        "                cmap='Blues')\n",
        "    plt.xlabel('Predicted')\n",
        "    plt.ylabel('True')\n",
        "    plt.title('Confusion Matrix')\n",
        "    plt.show()\n"
      ],
      "metadata": {
        "id": "fj5QzIWlhg9y"
      },
      "execution_count": 11,
      "outputs": []
    },
    {
      "cell_type": "code",
      "source": [
        "# Cell 7: Run everything\n",
        "# 1) load\n",
        "audio_files, labels = load_audio_files(base_path)\n",
        "print(f\"{len(audio_files)} files found\")\n",
        "# 2) featurize\n",
        "X_mfcc, y_labels = prepare_feature_vectors(audio_files, labels)\n",
        "print(\"Feature shape:\", X_mfcc.shape)\n",
        "# 3) train\n",
        "train_model(X_mfcc, y_labels)\n",
        "print(class_report)\n",
        "plot_confusion(conf_matrix)\n"
      ],
      "metadata": {
        "colab": {
          "base_uri": "https://localhost:8080/",
          "height": 1000
        },
        "id": "_omQNMrShimN",
        "outputId": "81fc0f34-d2e9-40ae-fca2-cad5de2edfca"
      },
      "execution_count": 12,
      "outputs": [
        {
          "output_type": "stream",
          "name": "stderr",
          "text": [
            "Processing Directories: 100%|██████████| 4/4 [00:00<00:00, 40.90it/s]\n"
          ]
        },
        {
          "output_type": "stream",
          "name": "stdout",
          "text": [
            "17635 files found\n"
          ]
        },
        {
          "output_type": "stream",
          "name": "stderr",
          "text": [
            "Extracting MFCC:  15%|█▌        | 2675/17635 [00:35<01:54, 131.04it/s]/usr/local/lib/python3.11/dist-packages/librosa/core/spectrum.py:266: UserWarning: n_fft=2048 is too large for input signal of length=0\n",
            "  warnings.warn(\n",
            "Extracting MFCC:  27%|██▋       | 4685/17635 [00:55<01:27, 148.53it/s]/tmp/ipython-input-8-2404025505.py:17: UserWarning: PySoundFile failed. Trying audioread instead.\n",
            "  y, sr = librosa.load(file_path, sr=sr, duration=duration)\n",
            "/usr/local/lib/python3.11/dist-packages/librosa/core/audio.py:184: FutureWarning: librosa.core.audio.__audioread_load\n",
            "\tDeprecated as of librosa version 0.10.0.\n",
            "\tIt will be removed in librosa version 1.0.\n",
            "  y, sr_native = __audioread_load(path, offset, duration, dtype)\n",
            "Extracting MFCC:  27%|██▋       | 4700/17635 [00:55<01:27, 147.83it/s]"
          ]
        },
        {
          "output_type": "stream",
          "name": "stdout",
          "text": [
            "Error /content/torgo-audio/F_Dys/wav_headMic_F01/wav_headMic_F01_0068.wav: \n"
          ]
        },
        {
          "output_type": "stream",
          "name": "stderr",
          "text": [
            "Extracting MFCC:  27%|██▋       | 4783/17635 [00:55<01:21, 158.52it/s]"
          ]
        },
        {
          "output_type": "stream",
          "name": "stdout",
          "text": [
            "Error /content/torgo-audio/F_Dys/wav_headMic_F01/wav_headMic_F01_0067.wav: \n"
          ]
        },
        {
          "output_type": "stream",
          "name": "stderr",
          "text": [
            "Extracting MFCC:  94%|█████████▎| 16509/17635 [02:29<00:08, 136.66it/s]/usr/local/lib/python3.11/dist-packages/librosa/core/spectrum.py:266: UserWarning: n_fft=2048 is too large for input signal of length=1206\n",
            "  warnings.warn(\n",
            "/usr/local/lib/python3.11/dist-packages/librosa/core/spectrum.py:266: UserWarning: n_fft=2048 is too large for input signal of length=939\n",
            "  warnings.warn(\n",
            "/usr/local/lib/python3.11/dist-packages/librosa/core/spectrum.py:266: UserWarning: n_fft=2048 is too large for input signal of length=151\n",
            "  warnings.warn(\n",
            "Extracting MFCC:  94%|█████████▎| 16524/17635 [02:30<00:08, 137.81it/s]/usr/local/lib/python3.11/dist-packages/librosa/core/spectrum.py:266: UserWarning: n_fft=2048 is too large for input signal of length=667\n",
            "  warnings.warn(\n",
            "/usr/local/lib/python3.11/dist-packages/librosa/core/spectrum.py:266: UserWarning: n_fft=2048 is too large for input signal of length=137\n",
            "  warnings.warn(\n",
            "Extracting MFCC:  94%|█████████▍| 16538/17635 [02:30<00:07, 137.25it/s]/usr/local/lib/python3.11/dist-packages/librosa/core/spectrum.py:266: UserWarning: n_fft=2048 is too large for input signal of length=134\n",
            "  warnings.warn(\n",
            "/usr/local/lib/python3.11/dist-packages/librosa/core/spectrum.py:266: UserWarning: n_fft=2048 is too large for input signal of length=423\n",
            "  warnings.warn(\n",
            "Extracting MFCC:  94%|█████████▍| 16585/17635 [02:30<00:07, 145.91it/s]/usr/local/lib/python3.11/dist-packages/librosa/core/spectrum.py:266: UserWarning: n_fft=2048 is too large for input signal of length=155\n",
            "  warnings.warn(\n",
            "Extracting MFCC:  94%|█████████▍| 16600/17635 [02:30<00:07, 134.92it/s]/usr/local/lib/python3.11/dist-packages/librosa/core/spectrum.py:266: UserWarning: n_fft=2048 is too large for input signal of length=955\n",
            "  warnings.warn(\n",
            "/usr/local/lib/python3.11/dist-packages/librosa/core/spectrum.py:266: UserWarning: n_fft=2048 is too large for input signal of length=421\n",
            "  warnings.warn(\n",
            "Extracting MFCC:  94%|█████████▍| 16616/17635 [02:30<00:07, 138.04it/s]/usr/local/lib/python3.11/dist-packages/librosa/core/spectrum.py:266: UserWarning: n_fft=2048 is too large for input signal of length=156\n",
            "  warnings.warn(\n",
            "Extracting MFCC:  94%|█████████▍| 16647/17635 [02:30<00:06, 143.78it/s]/usr/local/lib/python3.11/dist-packages/librosa/core/spectrum.py:266: UserWarning: n_fft=2048 is too large for input signal of length=405\n",
            "  warnings.warn(\n",
            "Extracting MFCC:  95%|█████████▍| 16677/17635 [02:31<00:06, 141.81it/s]/usr/local/lib/python3.11/dist-packages/librosa/core/spectrum.py:266: UserWarning: n_fft=2048 is too large for input signal of length=150\n",
            "  warnings.warn(\n",
            "Extracting MFCC:  95%|█████████▍| 16736/17635 [02:31<00:07, 126.65it/s]/usr/local/lib/python3.11/dist-packages/librosa/core/spectrum.py:266: UserWarning: n_fft=2048 is too large for input signal of length=417\n",
            "  warnings.warn(\n",
            "/usr/local/lib/python3.11/dist-packages/librosa/core/spectrum.py:266: UserWarning: n_fft=2048 is too large for input signal of length=686\n",
            "  warnings.warn(\n",
            "Extracting MFCC:  95%|█████████▌| 16823/17635 [02:32<00:05, 141.79it/s]/usr/local/lib/python3.11/dist-packages/librosa/core/spectrum.py:266: UserWarning: n_fft=2048 is too large for input signal of length=422\n",
            "  warnings.warn(\n",
            "Extracting MFCC:  96%|█████████▌| 16870/17635 [02:32<00:05, 142.47it/s]/usr/local/lib/python3.11/dist-packages/librosa/core/spectrum.py:266: UserWarning: n_fft=2048 is too large for input signal of length=132\n",
            "  warnings.warn(\n",
            "Extracting MFCC: 100%|██████████| 17635/17635 [02:39<00:00, 110.39it/s]\n",
            "/tmp/ipython-input-8-2404025505.py:35: UserWarning: Creating a tensor from a list of numpy.ndarrays is extremely slow. Please consider converting the list to a single numpy.ndarray with numpy.array() before converting to a tensor. (Triggered internally at /pytorch/torch/csrc/utils/tensor_new.cpp:254.)\n",
            "  X = torch.tensor(feats, dtype=torch.float32)\n"
          ]
        },
        {
          "output_type": "stream",
          "name": "stdout",
          "text": [
            "Feature shape: torch.Size([17633, 40])\n"
          ]
        },
        {
          "output_type": "stream",
          "name": "stderr",
          "text": [
            "Training: 100%|██████████| 50/50 [08:33<00:00, 10.27s/it]\n"
          ]
        },
        {
          "output_type": "stream",
          "name": "stdout",
          "text": [
            "              precision    recall  f1-score   support\n",
            "\n",
            "     Control       0.98      0.99      0.98      2291\n",
            "  Dysarthric       0.97      0.96      0.97      1236\n",
            "\n",
            "    accuracy                           0.98      3527\n",
            "   macro avg       0.98      0.97      0.98      3527\n",
            "weighted avg       0.98      0.98      0.98      3527\n",
            "\n"
          ]
        },
        {
          "output_type": "display_data",
          "data": {
            "text/plain": [
              "<Figure size 800x600 with 2 Axes>"
            ],
            "image/png": "[encoded data removed]"
          },
          "metadata": {}
        }
      ]
    },
    {
      "cell_type": "code",
      "source": [
        "# Cell 8: (Stub) save/download & convert to TFLite\n",
        "# After training, `classifier` holds your trained model.\n",
        "\n",
        "# 1) Save weights\n",
        "torch.save(classifier.state_dict(), \"classifier.pth\")\n",
        "\n",
        "# 2) (Optional) Download from remote:\n",
        "# !wget -O classifier.pth https://.../classifier.pth\n",
        "\n",
        "# 3) Load + trace\n",
        "# classifier = MobileNetV3Classifier().to(device)\n",
        "# classifier.load_state_dict(torch.load(\"classifier.pth\"))\n",
        "# classifier.eval()\n",
        "# example = torch.randn(1,40).to(device)\n",
        "# traced = torch.jit.trace(classifier, example)\n",
        "# traced.save(\"model_scripted.pt\")\n",
        "\n",
        "# 4) You can now convert model_scripted.pt → TFLite using the standard tflite_convert workflow.\n"
      ],
      "metadata": {
        "id": "9ahunB6PkMTB"
      },
      "execution_count": 13,
      "outputs": []
    },
    {
      "cell_type": "code",
      "source": [
        "! pip uninstall -y tf-nightly tf tensorflow\n"
      ],
      "metadata": {
        "colab": {
          "base_uri": "https://localhost:8080/"
        },
        "id": "XWZIvQGNlAC_",
        "outputId": "c68fc8f9-d921-4b59-cacc-95577d197dcc"
      },
      "execution_count": 16,
      "outputs": [
        {
          "output_type": "stream",
          "name": "stdout",
          "text": [
            "Found existing installation: tf_nightly 2.20.0.dev20250515\n",
            "Uninstalling tf_nightly-2.20.0.dev20250515:\n",
            "  Successfully uninstalled tf_nightly-2.20.0.dev20250515\n",
            "\u001b[33mWARNING: Skipping tf as it is not installed.\u001b[0m\u001b[33m\n",
            "\u001b[0mFound existing installation: tensorflow 2.18.0\n",
            "Uninstalling tensorflow-2.18.0:\n",
            "  Successfully uninstalled tensorflow-2.18.0\n"
          ]
        }
      ]
    },
    {
      "cell_type": "code",
      "source": [
        "! pip install tf-nightly==2.20.0.dev20250515\n"
      ],
      "metadata": {
        "colab": {
          "base_uri": "https://localhost:8080/"
        },
        "id": "SHFDKGDPlB2l",
        "outputId": "e9802862-387e-4488-e8da-ec8cadb8c1e4"
      },
      "execution_count": 17,
      "outputs": [
        {
          "output_type": "stream",
          "name": "stdout",
          "text": [
            "Collecting tf-nightly==2.20.0.dev20250515\n",
            "  Using cached tf_nightly-2.20.0.dev20250515-cp311-cp311-manylinux_2_17_x86_64.manylinux2014_x86_64.whl.metadata (4.3 kB)\n",
            "Requirement already satisfied: absl-py>=1.0.0 in /usr/local/lib/python3.11/dist-packages (from tf-nightly==2.20.0.dev20250515) (1.4.0)\n",
            "Requirement already satisfied: astunparse>=1.6.0 in /usr/local/lib/python3.11/dist-packages (from tf-nightly==2.20.0.dev20250515) (1.6.3)\n",
            "Requirement already satisfied: flatbuffers>=24.3.25 in /usr/local/lib/python3.11/dist-packages (from tf-nightly==2.20.0.dev20250515) (25.2.10)\n",
            "Requirement already satisfied: gast!=0.5.0,!=0.5.1,!=0.5.2,>=0.2.1 in /usr/local/lib/python3.11/dist-packages (from tf-nightly==2.20.0.dev20250515) (0.6.0)\n",
            "Requirement already satisfied: google-pasta>=0.1.1 in /usr/local/lib/python3.11/dist-packages (from tf-nightly==2.20.0.dev20250515) (0.2.0)\n",
            "Requirement already satisfied: libclang>=13.0.0 in /usr/local/lib/python3.11/dist-packages (from tf-nightly==2.20.0.dev20250515) (18.1.1)\n",
            "Requirement already satisfied: opt-einsum>=2.3.2 in /usr/local/lib/python3.11/dist-packages (from tf-nightly==2.20.0.dev20250515) (3.4.0)\n",
            "Requirement already satisfied: packaging in /usr/local/lib/python3.11/dist-packages (from tf-nightly==2.20.0.dev20250515) (25.0)\n",
            "Requirement already satisfied: protobuf>=4.21.6 in /usr/local/lib/python3.11/dist-packages (from tf-nightly==2.20.0.dev20250515) (5.29.5)\n",
            "Requirement already satisfied: requests<3,>=2.21.0 in /usr/local/lib/python3.11/dist-packages (from tf-nightly==2.20.0.dev20250515) (2.32.3)\n",
            "Requirement already satisfied: setuptools in /usr/local/lib/python3.11/dist-packages (from tf-nightly==2.20.0.dev20250515) (75.2.0)\n",
            "Requirement already satisfied: six>=1.12.0 in /usr/local/lib/python3.11/dist-packages (from tf-nightly==2.20.0.dev20250515) (1.17.0)\n",
            "Requirement already satisfied: termcolor>=1.1.0 in /usr/local/lib/python3.11/dist-packages (from tf-nightly==2.20.0.dev20250515) (3.1.0)\n",
            "Requirement already satisfied: typing-extensions>=3.6.6 in /usr/local/lib/python3.11/dist-packages (from tf-nightly==2.20.0.dev20250515) (4.14.1)\n",
            "Requirement already satisfied: wrapt>=1.11.0 in /usr/local/lib/python3.11/dist-packages (from tf-nightly==2.20.0.dev20250515) (1.17.2)\n",
            "Requirement already satisfied: grpcio<2.0,>=1.24.3 in /usr/local/lib/python3.11/dist-packages (from tf-nightly==2.20.0.dev20250515) (1.73.1)\n",
            "Requirement already satisfied: tb-nightly~=2.19.0.a in /usr/local/lib/python3.11/dist-packages (from tf-nightly==2.20.0.dev20250515) (2.19.0a20250218)\n",
            "Requirement already satisfied: keras-nightly>=3.6.0.dev in /usr/local/lib/python3.11/dist-packages (from tf-nightly==2.20.0.dev20250515) (3.10.0.dev2025071903)\n",
            "Requirement already satisfied: numpy<2.2.0,>=1.26.0 in /usr/local/lib/python3.11/dist-packages (from tf-nightly==2.20.0.dev20250515) (2.0.2)\n",
            "Requirement already satisfied: h5py>=3.11.0 in /usr/local/lib/python3.11/dist-packages (from tf-nightly==2.20.0.dev20250515) (3.14.0)\n",
            "Requirement already satisfied: ml-dtypes<1.0.0,>=0.5.1 in /usr/local/lib/python3.11/dist-packages (from tf-nightly==2.20.0.dev20250515) (0.5.1)\n",
            "Requirement already satisfied: wheel<1.0,>=0.23.0 in /usr/local/lib/python3.11/dist-packages (from astunparse>=1.6.0->tf-nightly==2.20.0.dev20250515) (0.45.1)\n",
            "Requirement already satisfied: rich in /usr/local/lib/python3.11/dist-packages (from keras-nightly>=3.6.0.dev->tf-nightly==2.20.0.dev20250515) (13.9.4)\n",
            "Requirement already satisfied: namex in /usr/local/lib/python3.11/dist-packages (from keras-nightly>=3.6.0.dev->tf-nightly==2.20.0.dev20250515) (0.1.0)\n",
            "Requirement already satisfied: optree in /usr/local/lib/python3.11/dist-packages (from keras-nightly>=3.6.0.dev->tf-nightly==2.20.0.dev20250515) (0.16.0)\n",
            "Requirement already satisfied: charset-normalizer<4,>=2 in /usr/local/lib/python3.11/dist-packages (from requests<3,>=2.21.0->tf-nightly==2.20.0.dev20250515) (3.4.2)\n",
            "Requirement already satisfied: idna<4,>=2.5 in /usr/local/lib/python3.11/dist-packages (from requests<3,>=2.21.0->tf-nightly==2.20.0.dev20250515) (3.10)\n",
            "Requirement already satisfied: urllib3<3,>=1.21.1 in /usr/local/lib/python3.11/dist-packages (from requests<3,>=2.21.0->tf-nightly==2.20.0.dev20250515) (2.4.0)\n",
            "Requirement already satisfied: certifi>=2017.4.17 in /usr/local/lib/python3.11/dist-packages (from requests<3,>=2.21.0->tf-nightly==2.20.0.dev20250515) (2025.7.14)\n",
            "Requirement already satisfied: markdown>=2.6.8 in /usr/local/lib/python3.11/dist-packages (from tb-nightly~=2.19.0.a->tf-nightly==2.20.0.dev20250515) (3.8.2)\n",
            "Requirement already satisfied: tensorboard-data-server<0.8.0,>=0.7.0 in /usr/local/lib/python3.11/dist-packages (from tb-nightly~=2.19.0.a->tf-nightly==2.20.0.dev20250515) (0.7.2)\n",
            "Requirement already satisfied: werkzeug>=1.0.1 in /usr/local/lib/python3.11/dist-packages (from tb-nightly~=2.19.0.a->tf-nightly==2.20.0.dev20250515) (3.1.3)\n",
            "Requirement already satisfied: MarkupSafe>=2.1.1 in /usr/local/lib/python3.11/dist-packages (from werkzeug>=1.0.1->tb-nightly~=2.19.0.a->tf-nightly==2.20.0.dev20250515) (3.0.2)\n",
            "Requirement already satisfied: markdown-it-py>=2.2.0 in /usr/local/lib/python3.11/dist-packages (from rich->keras-nightly>=3.6.0.dev->tf-nightly==2.20.0.dev20250515) (3.0.0)\n",
            "Requirement already satisfied: pygments<3.0.0,>=2.13.0 in /usr/local/lib/python3.11/dist-packages (from rich->keras-nightly>=3.6.0.dev->tf-nightly==2.20.0.dev20250515) (2.19.2)\n",
            "Requirement already satisfied: mdurl~=0.1 in /usr/local/lib/python3.11/dist-packages (from markdown-it-py>=2.2.0->rich->keras-nightly>=3.6.0.dev->tf-nightly==2.20.0.dev20250515) (0.1.2)\n",
            "Using cached tf_nightly-2.20.0.dev20250515-cp311-cp311-manylinux_2_17_x86_64.manylinux2014_x86_64.whl (601.9 MB)\n",
            "Installing collected packages: tf-nightly\n",
            "Successfully installed tf-nightly-2.20.0.dev20250515\n"
          ]
        }
      ]
    },
    {
      "cell_type": "code",
      "source": [
        "! pip install ai-edge-torch torchvision"
      ],
      "metadata": {
        "colab": {
          "base_uri": "https://localhost:8080/"
        },
        "id": "_KhcSxrclNZ9",
        "outputId": "0d0a50a1-f249-4a36-b300-9db68ef987d5"
      },
      "execution_count": 18,
      "outputs": [
        {
          "output_type": "stream",
          "name": "stdout",
          "text": [
            "Requirement already satisfied: ai-edge-torch in /usr/local/lib/python3.11/dist-packages (0.5.0)\n",
            "Requirement already satisfied: torchvision in /usr/local/lib/python3.11/dist-packages (0.21.0+cu124)\n",
            "Requirement already satisfied: absl-py in /usr/local/lib/python3.11/dist-packages (from ai-edge-torch) (1.4.0)\n",
            "Requirement already satisfied: numpy in /usr/local/lib/python3.11/dist-packages (from ai-edge-torch) (2.0.2)\n",
            "Requirement already satisfied: scipy in /usr/local/lib/python3.11/dist-packages (from ai-edge-torch) (1.15.3)\n",
            "Requirement already satisfied: safetensors in /usr/local/lib/python3.11/dist-packages (from ai-edge-torch) (0.5.3)\n",
            "Requirement already satisfied: multipledispatch in /usr/local/lib/python3.11/dist-packages (from ai-edge-torch) (1.0.0)\n",
            "Requirement already satisfied: transformers in /usr/local/lib/python3.11/dist-packages (from ai-edge-torch) (4.53.2)\n",
            "Requirement already satisfied: kagglehub in /usr/local/lib/python3.11/dist-packages (from ai-edge-torch) (0.3.12)\n",
            "Requirement already satisfied: tabulate in /usr/local/lib/python3.11/dist-packages (from ai-edge-torch) (0.9.0)\n",
            "Requirement already satisfied: torch<2.8.0,>=2.4.0 in /usr/local/lib/python3.11/dist-packages (from ai-edge-torch) (2.6.0+cu124)\n",
            "Requirement already satisfied: tf-nightly==2.20.0.dev20250515 in /usr/local/lib/python3.11/dist-packages (from ai-edge-torch) (2.20.0.dev20250515)\n",
            "Requirement already satisfied: ai-edge-litert==1.3.* in /usr/local/lib/python3.11/dist-packages (from ai-edge-torch) (1.3.0)\n",
            "Requirement already satisfied: ai-edge-quantizer==0.2.* in /usr/local/lib/python3.11/dist-packages (from ai-edge-torch) (0.2.1)\n",
            "Requirement already satisfied: jax in /usr/local/lib/python3.11/dist-packages (from ai-edge-torch) (0.5.2)\n",
            "Requirement already satisfied: torch-xla2>=0.0.1.dev20241201 in /usr/local/lib/python3.11/dist-packages (from torch-xla2[odml]>=0.0.1.dev20241201->ai-edge-torch) (0.0.1.dev202412041639)\n",
            "Requirement already satisfied: backports.strenum in /usr/local/lib/python3.11/dist-packages (from ai-edge-litert==1.3.*->ai-edge-torch) (1.2.8)\n",
            "Requirement already satisfied: flatbuffers in /usr/local/lib/python3.11/dist-packages (from ai-edge-litert==1.3.*->ai-edge-torch) (25.2.10)\n",
            "Requirement already satisfied: tqdm in /usr/local/lib/python3.11/dist-packages (from ai-edge-litert==1.3.*->ai-edge-torch) (4.67.1)\n",
            "Requirement already satisfied: typing-extensions in /usr/local/lib/python3.11/dist-packages (from ai-edge-litert==1.3.*->ai-edge-torch) (4.14.1)\n",
            "Requirement already satisfied: immutabledict in /usr/local/lib/python3.11/dist-packages (from ai-edge-quantizer==0.2.*->ai-edge-torch) (4.2.1)\n",
            "Requirement already satisfied: astunparse>=1.6.0 in /usr/local/lib/python3.11/dist-packages (from tf-nightly==2.20.0.dev20250515->ai-edge-torch) (1.6.3)\n",
            "Requirement already satisfied: gast!=0.5.0,!=0.5.1,!=0.5.2,>=0.2.1 in /usr/local/lib/python3.11/dist-packages (from tf-nightly==2.20.0.dev20250515->ai-edge-torch) (0.6.0)\n",
            "Requirement already satisfied: google-pasta>=0.1.1 in /usr/local/lib/python3.11/dist-packages (from tf-nightly==2.20.0.dev20250515->ai-edge-torch) (0.2.0)\n",
            "Requirement already satisfied: libclang>=13.0.0 in /usr/local/lib/python3.11/dist-packages (from tf-nightly==2.20.0.dev20250515->ai-edge-torch) (18.1.1)\n",
            "Requirement already satisfied: opt-einsum>=2.3.2 in /usr/local/lib/python3.11/dist-packages (from tf-nightly==2.20.0.dev20250515->ai-edge-torch) (3.4.0)\n",
            "Requirement already satisfied: packaging in /usr/local/lib/python3.11/dist-packages (from tf-nightly==2.20.0.dev20250515->ai-edge-torch) (25.0)\n",
            "Requirement already satisfied: protobuf>=4.21.6 in /usr/local/lib/python3.11/dist-packages (from tf-nightly==2.20.0.dev20250515->ai-edge-torch) (5.29.5)\n",
            "Requirement already satisfied: requests<3,>=2.21.0 in /usr/local/lib/python3.11/dist-packages (from tf-nightly==2.20.0.dev20250515->ai-edge-torch) (2.32.3)\n",
            "Requirement already satisfied: setuptools in /usr/local/lib/python3.11/dist-packages (from tf-nightly==2.20.0.dev20250515->ai-edge-torch) (75.2.0)\n",
            "Requirement already satisfied: six>=1.12.0 in /usr/local/lib/python3.11/dist-packages (from tf-nightly==2.20.0.dev20250515->ai-edge-torch) (1.17.0)\n",
            "Requirement already satisfied: termcolor>=1.1.0 in /usr/local/lib/python3.11/dist-packages (from tf-nightly==2.20.0.dev20250515->ai-edge-torch) (3.1.0)\n",
            "Requirement already satisfied: wrapt>=1.11.0 in /usr/local/lib/python3.11/dist-packages (from tf-nightly==2.20.0.dev20250515->ai-edge-torch) (1.17.2)\n",
            "Requirement already satisfied: grpcio<2.0,>=1.24.3 in /usr/local/lib/python3.11/dist-packages (from tf-nightly==2.20.0.dev20250515->ai-edge-torch) (1.73.1)\n",
            "Requirement already satisfied: tb-nightly~=2.19.0.a in /usr/local/lib/python3.11/dist-packages (from tf-nightly==2.20.0.dev20250515->ai-edge-torch) (2.19.0a20250218)\n",
            "Requirement already satisfied: keras-nightly>=3.6.0.dev in /usr/local/lib/python3.11/dist-packages (from tf-nightly==2.20.0.dev20250515->ai-edge-torch) (3.10.0.dev2025071903)\n",
            "Requirement already satisfied: h5py>=3.11.0 in /usr/local/lib/python3.11/dist-packages (from tf-nightly==2.20.0.dev20250515->ai-edge-torch) (3.14.0)\n",
            "Requirement already satisfied: ml-dtypes<1.0.0,>=0.5.1 in /usr/local/lib/python3.11/dist-packages (from tf-nightly==2.20.0.dev20250515->ai-edge-torch) (0.5.1)\n",
            "Requirement already satisfied: pillow!=8.3.*,>=5.3.0 in /usr/local/lib/python3.11/dist-packages (from torchvision) (11.2.1)\n",
            "Requirement already satisfied: filelock in /usr/local/lib/python3.11/dist-packages (from torch<2.8.0,>=2.4.0->ai-edge-torch) (3.18.0)\n",
            "Requirement already satisfied: networkx in /usr/local/lib/python3.11/dist-packages (from torch<2.8.0,>=2.4.0->ai-edge-torch) (3.5)\n",
            "Requirement already satisfied: jinja2 in /usr/local/lib/python3.11/dist-packages (from torch<2.8.0,>=2.4.0->ai-edge-torch) (3.1.6)\n",
            "Requirement already satisfied: fsspec in /usr/local/lib/python3.11/dist-packages (from torch<2.8.0,>=2.4.0->ai-edge-torch) (2025.3.2)\n",
            "Requirement already satisfied: nvidia-cuda-nvrtc-cu12==12.4.127 in /usr/local/lib/python3.11/dist-packages (from torch<2.8.0,>=2.4.0->ai-edge-torch) (12.4.127)\n",
            "Requirement already satisfied: nvidia-cuda-runtime-cu12==12.4.127 in /usr/local/lib/python3.11/dist-packages (from torch<2.8.0,>=2.4.0->ai-edge-torch) (12.4.127)\n",
            "Requirement already satisfied: nvidia-cuda-cupti-cu12==12.4.127 in /usr/local/lib/python3.11/dist-packages (from torch<2.8.0,>=2.4.0->ai-edge-torch) (12.4.127)\n",
            "Requirement already satisfied: nvidia-cudnn-cu12==9.1.0.70 in /usr/local/lib/python3.11/dist-packages (from torch<2.8.0,>=2.4.0->ai-edge-torch) (9.1.0.70)\n",
            "Requirement already satisfied: nvidia-cublas-cu12==12.4.5.8 in /usr/local/lib/python3.11/dist-packages (from torch<2.8.0,>=2.4.0->ai-edge-torch) (12.4.5.8)\n",
            "Requirement already satisfied: nvidia-cufft-cu12==11.2.1.3 in /usr/local/lib/python3.11/dist-packages (from torch<2.8.0,>=2.4.0->ai-edge-torch) (11.2.1.3)\n",
            "Requirement already satisfied: nvidia-curand-cu12==10.3.5.147 in /usr/local/lib/python3.11/dist-packages (from torch<2.8.0,>=2.4.0->ai-edge-torch) (10.3.5.147)\n",
            "Requirement already satisfied: nvidia-cusolver-cu12==11.6.1.9 in /usr/local/lib/python3.11/dist-packages (from torch<2.8.0,>=2.4.0->ai-edge-torch) (11.6.1.9)\n",
            "Requirement already satisfied: nvidia-cusparse-cu12==12.3.1.170 in /usr/local/lib/python3.11/dist-packages (from torch<2.8.0,>=2.4.0->ai-edge-torch) (12.3.1.170)\n",
            "Requirement already satisfied: nvidia-cusparselt-cu12==0.6.2 in /usr/local/lib/python3.11/dist-packages (from torch<2.8.0,>=2.4.0->ai-edge-torch) (0.6.2)\n",
            "Requirement already satisfied: nvidia-nccl-cu12==2.21.5 in /usr/local/lib/python3.11/dist-packages (from torch<2.8.0,>=2.4.0->ai-edge-torch) (2.21.5)\n",
            "Requirement already satisfied: nvidia-nvtx-cu12==12.4.127 in /usr/local/lib/python3.11/dist-packages (from torch<2.8.0,>=2.4.0->ai-edge-torch) (12.4.127)\n",
            "Requirement already satisfied: nvidia-nvjitlink-cu12==12.4.127 in /usr/local/lib/python3.11/dist-packages (from torch<2.8.0,>=2.4.0->ai-edge-torch) (12.4.127)\n",
            "Requirement already satisfied: triton==3.2.0 in /usr/local/lib/python3.11/dist-packages (from torch<2.8.0,>=2.4.0->ai-edge-torch) (3.2.0)\n",
            "Requirement already satisfied: sympy==1.13.1 in /usr/local/lib/python3.11/dist-packages (from torch<2.8.0,>=2.4.0->ai-edge-torch) (1.13.1)\n",
            "Requirement already satisfied: mpmath<1.4,>=1.1.0 in /usr/local/lib/python3.11/dist-packages (from sympy==1.13.1->torch<2.8.0,>=2.4.0->ai-edge-torch) (1.3.0)\n",
            "Requirement already satisfied: pytest in /usr/local/lib/python3.11/dist-packages (from torch-xla2>=0.0.1.dev20241201->torch-xla2[odml]>=0.0.1.dev20241201->ai-edge-torch) (8.3.5)\n",
            "Requirement already satisfied: jaxlib<=0.5.2,>=0.5.1 in /usr/local/lib/python3.11/dist-packages (from jax->ai-edge-torch) (0.5.1)\n",
            "Requirement already satisfied: pyyaml in /usr/local/lib/python3.11/dist-packages (from kagglehub->ai-edge-torch) (6.0.2)\n",
            "Requirement already satisfied: huggingface-hub<1.0,>=0.30.0 in /usr/local/lib/python3.11/dist-packages (from transformers->ai-edge-torch) (0.33.4)\n",
            "Requirement already satisfied: regex!=2019.12.17 in /usr/local/lib/python3.11/dist-packages (from transformers->ai-edge-torch) (2024.11.6)\n",
            "Requirement already satisfied: tokenizers<0.22,>=0.21 in /usr/local/lib/python3.11/dist-packages (from transformers->ai-edge-torch) (0.21.2)\n",
            "Requirement already satisfied: wheel<1.0,>=0.23.0 in /usr/local/lib/python3.11/dist-packages (from astunparse>=1.6.0->tf-nightly==2.20.0.dev20250515->ai-edge-torch) (0.45.1)\n",
            "Requirement already satisfied: hf-xet<2.0.0,>=1.1.2 in /usr/local/lib/python3.11/dist-packages (from huggingface-hub<1.0,>=0.30.0->transformers->ai-edge-torch) (1.1.5)\n",
            "Requirement already satisfied: rich in /usr/local/lib/python3.11/dist-packages (from keras-nightly>=3.6.0.dev->tf-nightly==2.20.0.dev20250515->ai-edge-torch) (13.9.4)\n",
            "Requirement already satisfied: namex in /usr/local/lib/python3.11/dist-packages (from keras-nightly>=3.6.0.dev->tf-nightly==2.20.0.dev20250515->ai-edge-torch) (0.1.0)\n",
            "Requirement already satisfied: optree in /usr/local/lib/python3.11/dist-packages (from keras-nightly>=3.6.0.dev->tf-nightly==2.20.0.dev20250515->ai-edge-torch) (0.16.0)\n",
            "Requirement already satisfied: charset-normalizer<4,>=2 in /usr/local/lib/python3.11/dist-packages (from requests<3,>=2.21.0->tf-nightly==2.20.0.dev20250515->ai-edge-torch) (3.4.2)\n",
            "Requirement already satisfied: idna<4,>=2.5 in /usr/local/lib/python3.11/dist-packages (from requests<3,>=2.21.0->tf-nightly==2.20.0.dev20250515->ai-edge-torch) (3.10)\n",
            "Requirement already satisfied: urllib3<3,>=1.21.1 in /usr/local/lib/python3.11/dist-packages (from requests<3,>=2.21.0->tf-nightly==2.20.0.dev20250515->ai-edge-torch) (2.4.0)\n",
            "Requirement already satisfied: certifi>=2017.4.17 in /usr/local/lib/python3.11/dist-packages (from requests<3,>=2.21.0->tf-nightly==2.20.0.dev20250515->ai-edge-torch) (2025.7.14)\n",
            "Requirement already satisfied: markdown>=2.6.8 in /usr/local/lib/python3.11/dist-packages (from tb-nightly~=2.19.0.a->tf-nightly==2.20.0.dev20250515->ai-edge-torch) (3.8.2)\n",
            "Requirement already satisfied: tensorboard-data-server<0.8.0,>=0.7.0 in /usr/local/lib/python3.11/dist-packages (from tb-nightly~=2.19.0.a->tf-nightly==2.20.0.dev20250515->ai-edge-torch) (0.7.2)\n",
            "Requirement already satisfied: werkzeug>=1.0.1 in /usr/local/lib/python3.11/dist-packages (from tb-nightly~=2.19.0.a->tf-nightly==2.20.0.dev20250515->ai-edge-torch) (3.1.3)\n",
            "Requirement already satisfied: MarkupSafe>=2.0 in /usr/local/lib/python3.11/dist-packages (from jinja2->torch<2.8.0,>=2.4.0->ai-edge-torch) (3.0.2)\n",
            "Requirement already satisfied: iniconfig in /usr/local/lib/python3.11/dist-packages (from pytest->torch-xla2>=0.0.1.dev20241201->torch-xla2[odml]>=0.0.1.dev20241201->ai-edge-torch) (2.1.0)\n",
            "Requirement already satisfied: pluggy<2,>=1.5 in /usr/local/lib/python3.11/dist-packages (from pytest->torch-xla2>=0.0.1.dev20241201->torch-xla2[odml]>=0.0.1.dev20241201->ai-edge-torch) (1.6.0)\n",
            "Requirement already satisfied: markdown-it-py>=2.2.0 in /usr/local/lib/python3.11/dist-packages (from rich->keras-nightly>=3.6.0.dev->tf-nightly==2.20.0.dev20250515->ai-edge-torch) (3.0.0)\n",
            "Requirement already satisfied: pygments<3.0.0,>=2.13.0 in /usr/local/lib/python3.11/dist-packages (from rich->keras-nightly>=3.6.0.dev->tf-nightly==2.20.0.dev20250515->ai-edge-torch) (2.19.2)\n",
            "Requirement already satisfied: mdurl~=0.1 in /usr/local/lib/python3.11/dist-packages (from markdown-it-py>=2.2.0->rich->keras-nightly>=3.6.0.dev->tf-nightly==2.20.0.dev20250515->ai-edge-torch) (0.1.2)\n"
          ]
        }
      ]
    },
    {
      "cell_type": "code",
      "source": [
        "import ai_edge_torch  # should load without that NotFoundError\n"
      ],
      "metadata": {
        "colab": {
          "base_uri": "https://localhost:8080/"
        },
        "id": "cmjNm1KHlVya",
        "outputId": "93ceca54-2271-4ad1-f23c-40c1874fd3c3"
      },
      "execution_count": 19,
      "outputs": [
        {
          "output_type": "stream",
          "name": "stderr",
          "text": [
            "/usr/local/lib/python3.11/dist-packages/torch/distributed/distributed_c10d.py:354: UserWarning: Device capability of jax unspecified, assuming `cpu` and `cuda`. Please specify it via the `devices` argument of `register_backend`.\n",
            "  warnings.warn(\n"
          ]
        }
      ]
    },
    {
      "cell_type": "code",
      "source": [
        "\n",
        "import numpy as np\n",
        "import torch\n",
        "\n",
        "# Move model to CPU and set to eval\n",
        "classifier_cpu = classifier.eval().cpu()\n",
        "\n",
        "# Create a sample input matching our model's signature\n",
        "sample_inputs = (torch.randn(1, 40),)\n",
        "\n",
        "# Convert to LiteRT/TFLite format :contentReference[oaicite:0]{index=0}\n",
        "edge_model = ai_edge_torch.convert(classifier_cpu, sample_inputs)\n",
        "\n",
        "# (Optional) Validate the converted model yields the same outputs\n",
        "torch_out = classifier_cpu(*sample_inputs).detach().numpy()\n",
        "edge_out  = edge_model(*sample_inputs)\n",
        "if np.allclose(torch_out, edge_out, atol=1e-5, rtol=1e-5):\n",
        "    print(\"Conversion validated\")\n",
        "else:\n",
        "    print(\"Warning: Outputs differ\")\n",
        "\n",
        "# Export as a .tflite flatbuffer :contentReference[oaicite:1]{index=1}\n",
        "edge_model.export(\"classifier.tflite\")\n"
      ],
      "metadata": {
        "colab": {
          "base_uri": "https://localhost:8080/",
          "height": 252
        },
        "id": "2238HyE4kSnZ",
        "outputId": "a7b1f25b-9bd7-4382-9abf-b695255d5508"
      },
      "execution_count": 20,
      "outputs": [
        {
          "output_type": "stream",
          "name": "stdout",
          "text": [
            "Conversion validated\n"
          ]
        },
        {
          "output_type": "error",
          "ename": "FileNotFoundError",
          "evalue": "[Errno 2] No such file or directory: ''",
          "traceback": [
            "\u001b[0;31m---------------------------------------------------------------------------\u001b[0m",
            "\u001b[0;31mFileNotFoundError\u001b[0m                         Traceback (most recent call last)",
            "\u001b[0;32m/tmp/ipython-input-20-2519848241.py\u001b[0m in \u001b[0;36m<cell line: 0>\u001b[0;34m()\u001b[0m\n\u001b[1;32m     20\u001b[0m \u001b[0;34m\u001b[0m\u001b[0m\n\u001b[1;32m     21\u001b[0m \u001b[0;31m# Export as a .tflite flatbuffer :contentReference[oaicite:1]{index=1}\u001b[0m\u001b[0;34m\u001b[0m\u001b[0;34m\u001b[0m\u001b[0m\n\u001b[0;32m---> 22\u001b[0;31m \u001b[0medge_model\u001b[0m\u001b[0;34m.\u001b[0m\u001b[0mexport\u001b[0m\u001b[0;34m(\u001b[0m\u001b[0;34m\"classifier.tflite\"\u001b[0m\u001b[0;34m)\u001b[0m\u001b[0;34m\u001b[0m\u001b[0;34m\u001b[0m\u001b[0m\n\u001b[0m",
            "\u001b[0;32m/usr/local/lib/python3.11/dist-packages/ai_edge_torch/model.py\u001b[0m in \u001b[0;36mexport\u001b[0;34m(self, path)\u001b[0m\n\u001b[1;32m    156\u001b[0m       \u001b[0mpath\u001b[0m\u001b[0;34m:\u001b[0m \u001b[0mThe\u001b[0m \u001b[0mpath\u001b[0m \u001b[0mto\u001b[0m \u001b[0mfile\u001b[0m \u001b[0mto\u001b[0m \u001b[0mwhich\u001b[0m \u001b[0mthe\u001b[0m \u001b[0mmodel\u001b[0m \u001b[0;32mis\u001b[0m \u001b[0mserialized\u001b[0m\u001b[0;34m.\u001b[0m\u001b[0;34m\u001b[0m\u001b[0;34m\u001b[0m\u001b[0m\n\u001b[1;32m    157\u001b[0m     \"\"\"\n\u001b[0;32m--> 158\u001b[0;31m     \u001b[0mos\u001b[0m\u001b[0;34m.\u001b[0m\u001b[0mmakedirs\u001b[0m\u001b[0;34m(\u001b[0m\u001b[0mos\u001b[0m\u001b[0;34m.\u001b[0m\u001b[0mpath\u001b[0m\u001b[0;34m.\u001b[0m\u001b[0mdirname\u001b[0m\u001b[0;34m(\u001b[0m\u001b[0mpath\u001b[0m\u001b[0;34m)\u001b[0m\u001b[0;34m,\u001b[0m \u001b[0mexist_ok\u001b[0m\u001b[0;34m=\u001b[0m\u001b[0;32mTrue\u001b[0m\u001b[0;34m)\u001b[0m\u001b[0;34m\u001b[0m\u001b[0;34m\u001b[0m\u001b[0m\n\u001b[0m\u001b[1;32m    159\u001b[0m     \u001b[0;32mwith\u001b[0m \u001b[0mopen\u001b[0m\u001b[0;34m(\u001b[0m\u001b[0mpath\u001b[0m\u001b[0;34m,\u001b[0m \u001b[0;34m'wb'\u001b[0m\u001b[0;34m)\u001b[0m \u001b[0;32mas\u001b[0m \u001b[0mfile_handle\u001b[0m\u001b[0;34m:\u001b[0m\u001b[0;34m\u001b[0m\u001b[0;34m\u001b[0m\u001b[0m\n\u001b[1;32m    160\u001b[0m       \u001b[0mfile_handle\u001b[0m\u001b[0;34m.\u001b[0m\u001b[0mwrite\u001b[0m\u001b[0;34m(\u001b[0m\u001b[0mself\u001b[0m\u001b[0;34m.\u001b[0m\u001b[0m_tflite_model\u001b[0m\u001b[0;34m)\u001b[0m\u001b[0;34m\u001b[0m\u001b[0;34m\u001b[0m\u001b[0m\n",
            "\u001b[0;32m/usr/lib/python3.11/os.py\u001b[0m in \u001b[0;36mmakedirs\u001b[0;34m(name, mode, exist_ok)\u001b[0m\n",
            "\u001b[0;31mFileNotFoundError\u001b[0m: [Errno 2] No such file or directory: ''"
          ]
        }
      ]
    },
    {
      "cell_type": "code",
      "source": [
        "import os\n",
        "os.makedirs(\"exported_models\", exist_ok=True)\n",
        "edge_model.export(\"exported_models/classifier.tflite\")"
      ],
      "metadata": {
        "id": "La3rbv80lvF5"
      },
      "execution_count": 21,
      "outputs": []
    },
    {
      "cell_type": "code",
      "source": [
        "# Cell X: Load TFLite model and randomly sample WAVs for inference\n",
        "import random\n",
        "import numpy as np\n",
        "import librosa\n",
        "from tensorflow.lite.python.interpreter import Interpreter\n",
        "\n",
        "# Configuration\n",
        "base_path = \"/content/torgo-audio\"        # Root of TORGO dataset\n",
        "num_samples = 5                            # How many WAV files to sample\n",
        "\n",
        "# 1) Gather all audio file paths\n",
        "# Assumes load_audio_files has been defined in a previous cell\n",
        "audio_files, _ = load_audio_files(base_path)\n",
        "\n",
        "# 2) Randomly sample files\n",
        "sampled_wavs = random.sample(audio_files, num_samples)\n",
        "print(\"Randomly sampled WAV files:\")\n",
        "for wav in sampled_wavs:\n",
        "    print(wav)\n",
        "\n",
        "# 3) Load the TFLite model\n",
        "interpreter = Interpreter(model_path=\"exported_models/classifier.tflite\")\n",
        "interpreter.allocate_tensors()\n",
        "input_details = interpreter.get_input_details()\n",
        "output_details = interpreter.get_output_details()\n",
        "\n",
        "# 4) MFCC extraction helper\n",
        "def extract_mfcc_np(file_path, duration=3, sr=16000, n_mfcc=40):\n",
        "    y, _ = librosa.load(file_path, sr=sr, duration=duration)\n",
        "    mfcc = librosa.feature.mfcc(y=y, sr=sr, n_mfcc=n_mfcc)\n",
        "    return np.mean(mfcc.T, axis=0).astype(np.float32)\n",
        "\n",
        "# 5) Run inference on each sample\n",
        "class_names = ['Control', 'Dysarthric']\n",
        "for wav in sampled_wavs:\n",
        "    mfcc_vec = extract_mfcc_np(wav)           # (40,)\n",
        "    input_data = mfcc_vec.reshape(1, 40)      # (1, 40)\n",
        "\n",
        "    # Ensure dtype matches model's input\n",
        "    if input_data.dtype != input_details[0]['dtype']:\n",
        "        input_data = input_data.astype(input_details[0]['dtype'])\n",
        "\n",
        "    interpreter.set_tensor(input_details[0]['index'], input_data)\n",
        "    interpreter.invoke()\n",
        "    output_data = interpreter.get_tensor(output_details[0]['index'])  # (1, 2)\n",
        "    pred = int(np.argmax(output_data, axis=1)[0])\n",
        "\n",
        "    print(f\"\\nFile: {wav}\")\n",
        "    print(f\"Prediction: {class_names[pred]}, scores={output_data[0]}\")\n",
        "\n"
      ],
      "metadata": {
        "colab": {
          "base_uri": "https://localhost:8080/"
        },
        "id": "srWxzvcZmGl2",
        "outputId": "44a087e4-c857-4cba-ee5a-5303b0fd980d"
      },
      "execution_count": 22,
      "outputs": [
        {
          "output_type": "stream",
          "name": "stderr",
          "text": [
            "Processing Directories: 100%|██████████| 4/4 [00:00<00:00, 24.65it/s]\n",
            "/usr/local/lib/python3.11/dist-packages/tensorflow/lite/python/interpreter.py:457: UserWarning:     Warning: tf.lite.Interpreter is deprecated and is scheduled for deletion in\n",
            "    TF 2.20. Please use the LiteRT interpreter from the ai_edge_litert package.\n",
            "    See the [migration guide](https://ai.google.dev/edge/litert/migration)\n",
            "    for details.\n",
            "    \n",
            "  warnings.warn(_INTERPRETER_DELETION_WARNING)\n"
          ]
        },
        {
          "output_type": "stream",
          "name": "stdout",
          "text": [
            "Randomly sampled WAV files:\n",
            "/content/torgo-audio/M_Dys/wav_headMic_M01S01/wav_headMic_M01S01_0065.wav\n",
            "/content/torgo-audio/F_Dys/wav_arrayMic_F04S01/wav_arrayMic_F04S01_0158.wav\n",
            "/content/torgo-audio/M_Con/wav_headMic_MC04S01/wav_headMic_MC04S01_0078.wav\n",
            "/content/torgo-audio/F_Con/wav_headMic_FC02S03/wav_headMic_FC02S03_0919.wav\n",
            "/content/torgo-audio/M_Con/wav_arrayMic_MC04S01/wav_arrayMic_MC04S01_0458.wav\n",
            "\n",
            "File: /content/torgo-audio/M_Dys/wav_headMic_M01S01/wav_headMic_M01S01_0065.wav\n",
            "Prediction: Dysarthric, scores=[-5.3847055  4.9036913]\n",
            "\n",
            "File: /content/torgo-audio/F_Dys/wav_arrayMic_F04S01/wav_arrayMic_F04S01_0158.wav\n",
            "Prediction: Dysarthric, scores=[-5.620904  5.195125]\n",
            "\n",
            "File: /content/torgo-audio/M_Con/wav_headMic_MC04S01/wav_headMic_MC04S01_0078.wav\n",
            "Prediction: Control, scores=[11.696318 -9.589547]\n",
            "\n",
            "File: /content/torgo-audio/F_Con/wav_headMic_FC02S03/wav_headMic_FC02S03_0919.wav\n",
            "Prediction: Control, scores=[ 13.453866 -10.815311]\n",
            "\n",
            "File: /content/torgo-audio/M_Con/wav_arrayMic_MC04S01/wav_arrayMic_MC04S01_0458.wav\n",
            "Prediction: Control, scores=[11.546214 -9.339224]\n"
          ]
        }
      ]
    }
  ]
}